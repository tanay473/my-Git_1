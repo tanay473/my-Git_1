{
 "cells": [
  {
   "cell_type": "markdown",
   "id": "10970891",
   "metadata": {},
   "source": [
    "# Complete Workflow for Project"
   ]
  },
  {
   "cell_type": "markdown",
   "id": "51d52cf1",
   "metadata": {},
   "source": [
    "## 1. User and Content Creator Registration"
   ]
  },
  {
   "cell_type": "markdown",
   "id": "35d177b5",
   "metadata": {},
   "source": [
    "### Frontend (Chrome Extension)"
   ]
  },
  {
   "cell_type": "markdown",
   "id": "4a854f00",
   "metadata": {},
   "source": [
    "\n",
    "#### Sign-Up Interface\n",
    "- Users and content creators register using the Chrome extension.\n",
    "- The registration form includes basic fields (name, email, password) and role selection (either **User** or **Content Creator**).\n",
    "- Registration data is sent to the backend.\n",
    "    "
   ]
  },
  {
   "cell_type": "markdown",
   "id": "ca95c13a",
   "metadata": {},
   "source": [
    "### Backend (FastAPI)"
   ]
  },
  {
   "cell_type": "code",
   "execution_count": null,
   "id": "461b4d97",
   "metadata": {},
   "outputs": [],
   "source": [
    "\n",
    "# Implementation of the user and content creator registration using FastAPI\n",
    "from fastapi import FastAPI, Depends\n",
    "from pydantic import BaseModel\n",
    "\n",
    "app = FastAPI()\n",
    "\n",
    "# A Pydantic model for user data\n",
    "class User(BaseModel):\n",
    "    username: str\n",
    "    email: str\n",
    "    password: str\n",
    "    role: str  # Either 'user' or 'content_creator'\n",
    "\n",
    "# Mock database\n",
    "db = {\"users\": []}\n",
    "\n",
    "# Register endpoint\n",
    "@app.post(\"/register\")\n",
    "async def register(user_data: User):\n",
    "    db['users'].append(user_data.dict())  # Add the user to the mock database\n",
    "    return {\"message\": \"Registration successful\", \"user\": user_data.dict()}\n",
    "\n",
    "# Dependency to simulate getting the current user\n",
    "def get_current_user():\n",
    "    return db[\"users\"][-1]  # For simplicity, return the last registered user\n"
   ]
  },
  {
   "cell_type": "markdown",
   "id": "bfddf476",
   "metadata": {},
   "source": [
    "## 2. Content Creator Workflow"
   ]
  },
  {
   "cell_type": "markdown",
   "id": "eda75c9b",
   "metadata": {},
   "source": [
    "### Frontend (Chrome Extension)"
   ]
  },
  {
   "cell_type": "markdown",
   "id": "e74e8d81",
   "metadata": {},
   "source": [
    "\n",
    "#### Intercepting Post Attempts\n",
    "- The Chrome extension monitors **post attempts** on supported platforms (e.g., WordPress, Medium).\n",
    "- If a content creator tries to post, the extension intercepts the request and checks if the user is logged in.\n",
    "- If not logged in, the extension **prompts for login** or **blocks the post attempt**.\n",
    "\n",
    "Here's the JavaScript logic for Chrome extension:\n",
    "```javascript\n",
    "chrome.webRequest.onBeforeRequest.addListener(\n",
    "  function(details) {\n",
    "    if (!localStorage.getItem(\"authToken\")) {\n",
    "      chrome.runtime.sendMessage({ action: \"promptLogin\" });\n",
    "      return { cancel: true };  // Block post attempt\n",
    "    }\n",
    "  },\n",
    "  { urls: [\"<all_urls>\"] },\n",
    "  [\"blocking\"]\n",
    ");\n",
    "```\n",
    "    "
   ]
  },
  {
   "cell_type": "markdown",
   "id": "4652d25b",
   "metadata": {},
   "source": [
    "### Backend (FastAPI)"
   ]
  },
  {
   "cell_type": "code",
   "execution_count": null,
   "id": "a5117487",
   "metadata": {},
   "outputs": [],
   "source": [
    "\n",
    "# Endpoint to track content creation (post submission)\n",
    "class PostDetails(BaseModel):\n",
    "    platform: str\n",
    "    content: str\n",
    "\n",
    "@app.post(\"/track_post\")\n",
    "async def track_post(post_details: PostDetails, current_user: User = Depends(get_current_user)):\n",
    "    # Simulating saving the post and tracking it for verification\n",
    "    post_info = {\n",
    "        \"creator\": current_user.username,\n",
    "        \"platform\": post_details.platform,\n",
    "        \"content\": post_details.content,\n",
    "        \"status\": \"under_review\"\n",
    "    }\n",
    "    return {\"message\": \"Post tracked and under review\", \"post_info\": post_info}\n"
   ]
  },
  {
   "cell_type": "markdown",
   "id": "2f4de5f5",
   "metadata": {},
   "source": [
    "## 3. User Workflow"
   ]
  },
  {
   "cell_type": "markdown",
   "id": "ff0c6b52",
   "metadata": {},
   "source": [
    "### Frontend (Chrome Extension)"
   ]
  },
  {
   "cell_type": "markdown",
   "id": "7ed52b2d",
   "metadata": {},
   "source": [
    "\n",
    "#### Interactive Pop-Up Interface\n",
    "- Users can select content to verify (image, video, or text) via the pop-up interface.\n",
    "\n",
    "JavaScript logic for content verification:\n",
    "```javascript\n",
    "document.getElementById('verifyButton').addEventListener('click', () => {\n",
    "    const selectedContent = getSelectedContent();\n",
    "    \n",
    "    fetch('http://127.0.0.1:8000/verify', {\n",
    "        method: 'POST',\n",
    "        headers: { 'Content-Type': 'application/json' },\n",
    "        body: JSON.stringify({ content: selectedContent }),\n",
    "    })\n",
    "    .then(response => response.json())\n",
    "    .then(data => {\n",
    "        document.getElementById('result').innerText = `Result: ${data.result}`;\n",
    "    });\n",
    "});\n",
    "```\n",
    "    "
   ]
  },
  {
   "cell_type": "markdown",
   "id": "5f2a408c",
   "metadata": {},
   "source": [
    "### Backend (FastAPI)"
   ]
  },
  {
   "cell_type": "code",
   "execution_count": null,
   "id": "e78409f6",
   "metadata": {},
   "outputs": [],
   "source": [
    "\n",
    "# Endpoint for content verification\n",
    "class Content(BaseModel):\n",
    "    content: str\n",
    "\n",
    "@app.post(\"/verify\")\n",
    "async def verify_content(content: Content, current_user: User = Depends(get_current_user)):\n",
    "    # Mock verification logic\n",
    "    if len(content.content) < 10:\n",
    "        return {\"result\": \"Content too short, possibly illegitimate\"}\n",
    "    \n",
    "    return {\"result\": \"Content is legitimate\"}\n"
   ]
  },
  {
   "cell_type": "markdown",
   "id": "f04ea9f5",
   "metadata": {},
   "source": [
    "## 4. Detecting Malicious Intent from Users"
   ]
  },
  {
   "cell_type": "markdown",
   "id": "19b9d949",
   "metadata": {},
   "source": [
    "### Frontend (Chrome Extension)"
   ]
  },
  {
   "cell_type": "markdown",
   "id": "e772222d",
   "metadata": {},
   "source": [
    "\n",
    "#### Detecting Malicious Content\n",
    "- The extension checks for malicious content before submitting it for verification.\n",
    "- If detected, the user gets a warning.\n",
    "\n",
    "```javascript\n",
    "document.getElementById('verifyButton').addEventListener('click', () => {\n",
    "    const selectedContent = getSelectedContent();\n",
    "    \n",
    "    if (isMaliciousContent(selectedContent)) {\n",
    "        alert(\"Malicious content detected. Aborting verification.\");\n",
    "        return;\n",
    "    }\n",
    "\n",
    "    fetch('http://127.0.0.1:8000/verify', {\n",
    "        method: 'POST',\n",
    "        headers: { 'Content-Type': 'application/json' },\n",
    "        body: JSON.stringify({ content: selectedContent }),\n",
    "    })\n",
    "    .then(response => response.json())\n",
    "    .then(data => {\n",
    "        document.getElementById('result').innerText = `Result: ${data.result}`;\n",
    "    });\n",
    "});\n",
    "```\n",
    "    "
   ]
  },
  {
   "cell_type": "markdown",
   "id": "5e01f9a8",
   "metadata": {},
   "source": [
    "### Backend (FastAPI)"
   ]
  },
  {
   "cell_type": "code",
   "execution_count": null,
   "id": "cc1bf844",
   "metadata": {},
   "outputs": [],
   "source": [
    "\n",
    "# Mock malicious content detection logic\n",
    "def detect_malicious_content(content):\n",
    "    malicious_keywords = [\"spam\", \"malicious\", \"offensive\"]\n",
    "    return any(keyword in content for keyword in malicious_keywords)\n",
    "\n",
    "@app.post(\"/verify\")\n",
    "async def verify_content(content: Content, current_user: User = Depends(get_current_user)):\n",
    "    if detect_malicious_content(content.content):\n",
    "        log_warning(current_user.username)\n",
    "        return {\"result\": \"Malicious content detected\"}\n",
    "\n",
    "    return {\"result\": \"Content is legitimate\"}\n"
   ]
  },
  {
   "cell_type": "markdown",
   "id": "4bd7d5c0",
   "metadata": {},
   "source": [
    "## 5. Malicious Content Reporting and Verification"
   ]
  },
  {
   "cell_type": "markdown",
   "id": "c5861054",
   "metadata": {},
   "source": [
    "### Frontend (Chrome Extension)"
   ]
  },
  {
   "cell_type": "markdown",
   "id": "c2431361",
   "metadata": {},
   "source": [
    "\n",
    "#### User Reporting of Malicious Content\n",
    "Users can report inappropriate content, which is then verified.\n",
    "\n",
    "JavaScript logic for reporting malicious content:\n",
    "```javascript\n",
    "document.getElementById('reportButton').addEventListener('click', () => {\n",
    "    const reportedContent = getReportedContent();\n",
    "    \n",
    "    fetch('http://127.0.0.1:8000/report', {\n",
    "        method: 'POST',\n",
    "        headers: { 'Content-Type': 'application/json' },\n",
    "        body: JSON.stringify({ content: reportedContent }),\n",
    "    })\n",
    "    .then(response => response.json())\n",
    "    .then(data => {\n",
    "        alert('Report submitted successfully.');\n",
    "    });\n",
    "});\n",
    "```\n",
    "    "
   ]
  },
  {
   "cell_type": "markdown",
   "id": "579e4616",
   "metadata": {},
   "source": [
    "### Backend (FastAPI)"
   ]
  },
  {
   "cell_type": "code",
   "execution_count": null,
   "id": "7d269aff",
   "metadata": {},
   "outputs": [],
   "source": [
    "\n",
    "# Mock malicious content reporting and verification\n",
    "@app.post(\"/report\")\n",
    "async def report_content(content: Content, current_user: User = Depends(get_current_user)):\n",
    "    if detect_malicious_content(content.content):\n",
    "        handle_malicious_content(content.content)\n",
    "        return {\"message\": \"Content verified as malicious. Action taken.\"}\n",
    "    \n",
    "    log_report(current_user.username, content.content)\n",
    "    return {\"message\": \"Content reported. Under review.\"}\n",
    "\n",
    "# Placeholder function for handling malicious content\n",
    "def handle_malicious_content(content):\n",
    "    print(f\"Action taken against content: {content}\")\n"
   ]
  },
  {
   "cell_type": "markdown",
   "id": "e23c3e3d",
   "metadata": {},
   "source": [
    "## 6. Content Creator Penalties"
   ]
  },
  {
   "cell_type": "markdown",
   "id": "a1bb88ab",
   "metadata": {},
   "source": [
    "### Backend (FastAPI)"
   ]
  },
  {
   "cell_type": "code",
   "execution_count": null,
   "id": "dba0b1f8",
   "metadata": {},
   "outputs": [],
   "source": [
    "\n",
    "# Implementing penalties for content creators\n",
    "MALICIOUS_THRESHOLD = 3  # Threshold for penalizing content creators\n",
    "\n",
    "def calculate_malicious_score(creator_id):\n",
    "    # Mock function that calculates a malicious score for a content creator\n",
    "    return 4  # Returning a score greater than threshold\n",
    "\n",
    "def restrict_content_creator(creator_id):\n",
    "    print(f\"Content creator {creator_id} restricted from posting for 30 days\")\n",
    "\n",
    "@app.post(\"/handle_penalty\")\n",
    "async def handle_penalty(creator_id: str):\n",
    "    malicious_score = calculate_malicious_score(creator_id)\n",
    "    \n",
    "    if malicious_score > MALICIOUS_THRESHOLD:\n",
    "        restrict_content_creator(creator_id)\n",
    "        return {\"message\": \"Content creator restricted for malicious content.\"}\n",
    "    \n",
    "    return {\"message\": \"Content creator warned\"}\n"
   ]
  }
 ],
 "metadata": {},
 "nbformat": 4,
 "nbformat_minor": 5
}
